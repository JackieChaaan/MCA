{
  "nbformat": 4,
  "nbformat_minor": 0,
  "metadata": {
    "colab": {
      "provenance": []
    },
    "kernelspec": {
      "name": "python3",
      "display_name": "Python 3"
    },
    "language_info": {
      "name": "python"
    }
  },
  "cells": [
    {
      "cell_type": "code",
      "execution_count": null,
      "metadata": {
        "colab": {
          "base_uri": "https://localhost:8080/"
        },
        "id": "NbOcqNXYKRS9",
        "outputId": "d3153f13-f4ce-4ce3-9b55-2f9760d1e18e"
      },
      "outputs": [
        {
          "output_type": "stream",
          "name": "stdout",
          "text": [
            "      Name  Age  Salary\n",
            "0    Alice   25   50000\n",
            "1      Bob   30   60000\n",
            "2  Charlie   35   70000\n"
          ]
        }
      ],
      "source": [
        "import pandas as pd\n",
        "data={'Name':['Alice','Bob','Charlie'],'Age':[25,30,35],'Salary':[50000,60000,70000]}\n",
        "df=pd.DataFrame(data)\n",
        "print(df)"
      ]
    },
    {
      "cell_type": "code",
      "source": [
        "new_rows=[{'Name':'David','Age':28,'Salary':80000},{'Name':'Eva','Age':22,'Salary':55000},{'Name':'Philip','Age':45,'Salary':40000},{'Name':'Joan','Age':23,'Salary':75000}]\n",
        "for row in new_rows:\n",
        "  df=df.append(row,ignore_index=True)\n",
        "print(df)"
      ],
      "metadata": {
        "colab": {
          "base_uri": "https://localhost:8080/"
        },
        "id": "irzKmnUOLs0S",
        "outputId": "927f767c-74b5-4a2e-8985-a810ba997347"
      },
      "execution_count": null,
      "outputs": [
        {
          "output_type": "stream",
          "name": "stdout",
          "text": [
            "       Name  Age  Salary\n",
            "0     Alice   25   50000\n",
            "1       Bob   30   60000\n",
            "2   Charlie   35   70000\n",
            "3     David   28   80000\n",
            "4       Eva   22   55000\n",
            "5    Philip   45   40000\n",
            "6      Joan   23   75000\n",
            "7     David   28   80000\n",
            "8       Eva   22   55000\n",
            "9    Philip   45   40000\n",
            "10     Joan   23   75000\n"
          ]
        },
        {
          "output_type": "stream",
          "name": "stderr",
          "text": [
            "<ipython-input-6-db0b4f65efad>:3: FutureWarning: The frame.append method is deprecated and will be removed from pandas in a future version. Use pandas.concat instead.\n",
            "  df=df.append(row,ignore_index=True)\n",
            "<ipython-input-6-db0b4f65efad>:3: FutureWarning: The frame.append method is deprecated and will be removed from pandas in a future version. Use pandas.concat instead.\n",
            "  df=df.append(row,ignore_index=True)\n",
            "<ipython-input-6-db0b4f65efad>:3: FutureWarning: The frame.append method is deprecated and will be removed from pandas in a future version. Use pandas.concat instead.\n",
            "  df=df.append(row,ignore_index=True)\n",
            "<ipython-input-6-db0b4f65efad>:3: FutureWarning: The frame.append method is deprecated and will be removed from pandas in a future version. Use pandas.concat instead.\n",
            "  df=df.append(row,ignore_index=True)\n"
          ]
        }
      ]
    },
    {
      "cell_type": "code",
      "source": [
        "print(\"\\nFirst Five Rows\")\n",
        "print(df.head())"
      ],
      "metadata": {
        "colab": {
          "base_uri": "https://localhost:8080/"
        },
        "id": "Is3UezP3OHfv",
        "outputId": "2b2cfa4a-fc2b-4c3d-8d52-884e31fcadf5"
      },
      "execution_count": null,
      "outputs": [
        {
          "output_type": "stream",
          "name": "stdout",
          "text": [
            "\n",
            "First Five Rows\n",
            "      Name  Age  Salary\n",
            "0    Alice   25   50000\n",
            "1      Bob   30   60000\n",
            "2  Charlie   35   70000\n",
            "3    David   28   80000\n",
            "4      Eva   22   55000\n"
          ]
        }
      ]
    },
    {
      "cell_type": "code",
      "source": [
        "print(\"\\nTail\")\n",
        "print(df.tail())"
      ],
      "metadata": {
        "colab": {
          "base_uri": "https://localhost:8080/"
        },
        "id": "KWaHl1LdO5_d",
        "outputId": "b67e0aa9-ea1e-462d-acaf-c71c8bd9d68a"
      },
      "execution_count": null,
      "outputs": [
        {
          "output_type": "stream",
          "name": "stdout",
          "text": [
            "\n",
            "Tail\n",
            "      Name  Age  Salary\n",
            "6     Joan   23   75000\n",
            "7    David   28   80000\n",
            "8      Eva   22   55000\n",
            "9   Philip   45   40000\n",
            "10    Joan   23   75000\n"
          ]
        }
      ]
    },
    {
      "cell_type": "code",
      "source": [
        "print(\"\\nCount\")\n",
        "print(df.count())"
      ],
      "metadata": {
        "colab": {
          "base_uri": "https://localhost:8080/"
        },
        "id": "-EwJbS1QPDqU",
        "outputId": "35094706-1cac-41d7-93b8-244fe2a8137a"
      },
      "execution_count": null,
      "outputs": [
        {
          "output_type": "stream",
          "name": "stdout",
          "text": [
            "\n",
            "Count\n",
            "Name      11\n",
            "Age       11\n",
            "Salary    11\n",
            "dtype: int64\n"
          ]
        }
      ]
    },
    {
      "cell_type": "code",
      "source": [
        "print(\"\\nSum\")\n",
        "print(df['Age'].sum(),df['Salary'].sum())"
      ],
      "metadata": {
        "colab": {
          "base_uri": "https://localhost:8080/"
        },
        "id": "9ZvQwTusPe7Y",
        "outputId": "1f72e718-688d-4d71-da4e-f61a71bf7dbe"
      },
      "execution_count": null,
      "outputs": [
        {
          "output_type": "stream",
          "name": "stdout",
          "text": [
            "\n",
            "Sum\n",
            "326 680000\n"
          ]
        }
      ]
    },
    {
      "cell_type": "code",
      "source": [
        "print(df.describe())"
      ],
      "metadata": {
        "colab": {
          "base_uri": "https://localhost:8080/"
        },
        "id": "0IlsbSMLRG_5",
        "outputId": "8baf7ffb-980a-473a-93f7-fec012d890cd"
      },
      "execution_count": null,
      "outputs": [
        {
          "output_type": "stream",
          "name": "stdout",
          "text": [
            "             Age        Salary\n",
            "count  11.000000     11.000000\n",
            "mean   29.636364  61818.181818\n",
            "std     8.558887  15045.385883\n",
            "min    22.000000  40000.000000\n",
            "25%    23.000000  52500.000000\n",
            "50%    28.000000  60000.000000\n",
            "75%    32.500000  75000.000000\n",
            "max    45.000000  80000.000000\n"
          ]
        }
      ]
    },
    {
      "cell_type": "code",
      "source": [
        "print(df.info())"
      ],
      "metadata": {
        "colab": {
          "base_uri": "https://localhost:8080/"
        },
        "id": "ySPij51BRo-R",
        "outputId": "c1230487-b6da-4ad3-f1ad-435c096b3285"
      },
      "execution_count": null,
      "outputs": [
        {
          "output_type": "stream",
          "name": "stdout",
          "text": [
            "<class 'pandas.core.frame.DataFrame'>\n",
            "RangeIndex: 11 entries, 0 to 10\n",
            "Data columns (total 3 columns):\n",
            " #   Column  Non-Null Count  Dtype \n",
            "---  ------  --------------  ----- \n",
            " 0   Name    11 non-null     object\n",
            " 1   Age     11 non-null     int64 \n",
            " 2   Salary  11 non-null     int64 \n",
            "dtypes: int64(2), object(1)\n",
            "memory usage: 392.0+ bytes\n",
            "None\n"
          ]
        }
      ]
    },
    {
      "cell_type": "code",
      "source": [
        "print(df.isnull().sum())"
      ],
      "metadata": {
        "colab": {
          "base_uri": "https://localhost:8080/"
        },
        "id": "8N0MJBQaRymq",
        "outputId": "f47fc7fc-67a3-4719-e7dd-fc9a37f1ff88"
      },
      "execution_count": null,
      "outputs": [
        {
          "output_type": "stream",
          "name": "stdout",
          "text": [
            "Name      0\n",
            "Age       0\n",
            "Salary    0\n",
            "dtype: int64\n"
          ]
        }
      ]
    },
    {
      "cell_type": "code",
      "source": [
        "print(\"Mean of age:\",df['Age'].mean())\n",
        "print(\"Mean of salary:\",df['Salary'].mean())"
      ],
      "metadata": {
        "colab": {
          "base_uri": "https://localhost:8080/"
        },
        "id": "g3JJZQ5sR39a",
        "outputId": "57ed57b3-2026-4f60-e181-9d3e7e33c329"
      },
      "execution_count": null,
      "outputs": [
        {
          "output_type": "stream",
          "name": "stdout",
          "text": [
            "Mean of age: 29.636363636363637\n",
            "Mean of salary: 61818.181818181816\n"
          ]
        }
      ]
    },
    {
      "cell_type": "code",
      "source": [
        "print(\"Median of age:\",df['Age'].median())\n",
        "print(\"Median of salary:\",df['Salary'].median())"
      ],
      "metadata": {
        "colab": {
          "base_uri": "https://localhost:8080/"
        },
        "id": "5Y4_B7T4TKBK",
        "outputId": "fd364435-d727-40c7-b482-d115574f1809"
      },
      "execution_count": null,
      "outputs": [
        {
          "output_type": "stream",
          "name": "stdout",
          "text": [
            "Median of age: 28.0\n",
            "Median of salary: 60000.0\n"
          ]
        }
      ]
    },
    {
      "cell_type": "code",
      "source": [
        "print(df.mode())\n"
      ],
      "metadata": {
        "colab": {
          "base_uri": "https://localhost:8080/"
        },
        "id": "1Ep2aiOiTQet",
        "outputId": "b4588d0a-ea32-4060-ee34-e790219527a4"
      },
      "execution_count": null,
      "outputs": [
        {
          "output_type": "stream",
          "name": "stdout",
          "text": [
            "     Name  Age  Salary\n",
            "0   David   22   40000\n",
            "1     Eva   23   55000\n",
            "2    Joan   28   75000\n",
            "3  Philip   45   80000\n"
          ]
        }
      ]
    },
    {
      "cell_type": "code",
      "source": [
        "print(\"Standard Deviation of values: \",df['Age'].std(),df['Salary'].std())"
      ],
      "metadata": {
        "colab": {
          "base_uri": "https://localhost:8080/"
        },
        "id": "gg_nvEHxTrpN",
        "outputId": "ea450690-2c87-4376-ec8b-24a47ce0a7ad"
      },
      "execution_count": null,
      "outputs": [
        {
          "output_type": "stream",
          "name": "stdout",
          "text": [
            "Standard Deviation of values:  8.558886928482316 15045.3858828425\n"
          ]
        }
      ]
    },
    {
      "cell_type": "code",
      "source": [
        "print(\"Minimum Age and Salary\",df['Age'].min(),df['Salary'].min())"
      ],
      "metadata": {
        "colab": {
          "base_uri": "https://localhost:8080/"
        },
        "id": "VmoTo1lYUN24",
        "outputId": "8245002c-77de-45db-a04c-5c88f4aa4290"
      },
      "execution_count": null,
      "outputs": [
        {
          "output_type": "stream",
          "name": "stdout",
          "text": [
            "Minimum Age and Salary 22 40000\n"
          ]
        }
      ]
    },
    {
      "cell_type": "code",
      "source": [
        "print(\"Maximum Age and Salary\",df['Age'].max(),df['Salary'].max())"
      ],
      "metadata": {
        "colab": {
          "base_uri": "https://localhost:8080/"
        },
        "id": "bpMwPOzpUd8f",
        "outputId": "10c698c2-ba6a-4b55-aaf9-8dc6d593b95f"
      },
      "execution_count": null,
      "outputs": [
        {
          "output_type": "stream",
          "name": "stdout",
          "text": [
            "Maximum Age and Salary 45 80000\n"
          ]
        }
      ]
    },
    {
      "cell_type": "code",
      "source": [
        "print(df.min())"
      ],
      "metadata": {
        "colab": {
          "base_uri": "https://localhost:8080/"
        },
        "id": "1snmBj-cUpV-",
        "outputId": "bd40369f-dd59-44bd-bec1-4a6ad7ff7d93"
      },
      "execution_count": null,
      "outputs": [
        {
          "output_type": "stream",
          "name": "stdout",
          "text": [
            "Name      Alice\n",
            "Age          22\n",
            "Salary    40000\n",
            "dtype: object\n"
          ]
        }
      ]
    },
    {
      "cell_type": "code",
      "source": [
        "print(df.max())"
      ],
      "metadata": {
        "colab": {
          "base_uri": "https://localhost:8080/"
        },
        "id": "xD6KP_z6VDmp",
        "outputId": "69194188-2c90-467c-de7e-8e316ba8920e"
      },
      "execution_count": null,
      "outputs": [
        {
          "output_type": "stream",
          "name": "stdout",
          "text": [
            "Name      Philip\n",
            "Age           45\n",
            "Salary     80000\n",
            "dtype: object\n"
          ]
        }
      ]
    }
  ]
}