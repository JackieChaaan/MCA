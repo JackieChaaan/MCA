{
  "nbformat": 4,
  "nbformat_minor": 0,
  "metadata": {
    "colab": {
      "provenance": []
    },
    "kernelspec": {
      "name": "python3",
      "display_name": "Python 3"
    },
    "language_info": {
      "name": "python"
    }
  },
  "cells": [
    {
      "cell_type": "markdown",
      "source": [
        "# **Importing**"
      ],
      "metadata": {
        "id": "yCvJL4geBWVY"
      }
    },
    {
      "cell_type": "code",
      "source": [
        "import tensorflow as tf\n",
        "from tensorflow import keras\n",
        "from tensorflow.keras import layers"
      ],
      "metadata": {
        "id": "CHQkWoyU_tcB"
      },
      "execution_count": null,
      "outputs": []
    },
    {
      "cell_type": "markdown",
      "source": [
        "# **Loading**"
      ],
      "metadata": {
        "id": "2xK19LzyBR_z"
      }
    },
    {
      "cell_type": "code",
      "source": [
        "# Load the MNIST dataset\n",
        "mnist = keras.datasets.mnist\n",
        "(train_images, train_labels), (test_images, test_labels) = mnist.load_data()"
      ],
      "metadata": {
        "id": "dRFktNVi_tew"
      },
      "execution_count": null,
      "outputs": []
    },
    {
      "cell_type": "code",
      "source": [
        "# Preprocess the data\n",
        "train_images, test_images = train_images / 255.0, test_images / 255.0"
      ],
      "metadata": {
        "id": "WPOUrJIg_thl"
      },
      "execution_count": null,
      "outputs": []
    },
    {
      "cell_type": "code",
      "source": [
        "# Build the neural network\n",
        "model = keras.Sequential([\n",
        "    layers.Flatten(input_shape=(28, 28)),  # Flatten the 28x28 image into a 1D array\n",
        "    layers.Dense(128, activation='relu'),  # Fully connected layer with ReLU activation\n",
        "    layers.Dropout(0.2),  # Dropout layer to reduce overfitting\n",
        "    layers.Dense(10)  # Output layer with 10 units for 10 classes (0-9)\n",
        "])\n"
      ],
      "metadata": {
        "id": "1j6e4U7J_tkZ"
      },
      "execution_count": null,
      "outputs": []
    },
    {
      "cell_type": "code",
      "source": [
        "# Compile the model\n",
        "model.compile(optimizer='adam',\n",
        "              loss=tf.keras.losses.SparseCategoricalCrossentropy(from_logits=True),\n",
        "              metrics=['accuracy'])"
      ],
      "metadata": {
        "id": "wbAEBBU__tnH"
      },
      "execution_count": null,
      "outputs": []
    },
    {
      "cell_type": "markdown",
      "source": [
        "# **Model Training**"
      ],
      "metadata": {
        "id": "HgJ0YOCvBGxB"
      }
    },
    {
      "cell_type": "code",
      "source": [
        "# Train the model\n",
        "model.fit(train_images, train_labels, epochs=10, validation_split=0.2)"
      ],
      "metadata": {
        "colab": {
          "base_uri": "https://localhost:8080/"
        },
        "id": "0qZDW1b0_tp1",
        "outputId": "33eaaf8f-0b99-4a5c-9837-14c40ba64e1c"
      },
      "execution_count": null,
      "outputs": [
        {
          "output_type": "stream",
          "name": "stdout",
          "text": [
            "Epoch 1/10\n",
            "1500/1500 [==============================] - 7s 4ms/step - loss: 0.3281 - accuracy: 0.9048 - val_loss: 0.1612 - val_accuracy: 0.9540\n",
            "Epoch 2/10\n",
            "1500/1500 [==============================] - 9s 6ms/step - loss: 0.1610 - accuracy: 0.9524 - val_loss: 0.1143 - val_accuracy: 0.9684\n",
            "Epoch 3/10\n",
            "1500/1500 [==============================] - 9s 6ms/step - loss: 0.1190 - accuracy: 0.9646 - val_loss: 0.1003 - val_accuracy: 0.9694\n",
            "Epoch 4/10\n",
            "1500/1500 [==============================] - 6s 4ms/step - loss: 0.0994 - accuracy: 0.9702 - val_loss: 0.0893 - val_accuracy: 0.9747\n",
            "Epoch 5/10\n",
            "1500/1500 [==============================] - 7s 5ms/step - loss: 0.0831 - accuracy: 0.9741 - val_loss: 0.0887 - val_accuracy: 0.9737\n",
            "Epoch 6/10\n",
            "1500/1500 [==============================] - 6s 4ms/step - loss: 0.0701 - accuracy: 0.9782 - val_loss: 0.0846 - val_accuracy: 0.9752\n",
            "Epoch 7/10\n",
            "1500/1500 [==============================] - 7s 5ms/step - loss: 0.0654 - accuracy: 0.9786 - val_loss: 0.0860 - val_accuracy: 0.9753\n",
            "Epoch 8/10\n",
            "1500/1500 [==============================] - 6s 4ms/step - loss: 0.0562 - accuracy: 0.9817 - val_loss: 0.0808 - val_accuracy: 0.9768\n",
            "Epoch 9/10\n",
            "1500/1500 [==============================] - 7s 5ms/step - loss: 0.0515 - accuracy: 0.9828 - val_loss: 0.0800 - val_accuracy: 0.9782\n",
            "Epoch 10/10\n",
            "1500/1500 [==============================] - 6s 4ms/step - loss: 0.0487 - accuracy: 0.9847 - val_loss: 0.0793 - val_accuracy: 0.9779\n"
          ]
        },
        {
          "output_type": "execute_result",
          "data": {
            "text/plain": [
              "<keras.src.callbacks.History at 0x7c7ea82729b0>"
            ]
          },
          "metadata": {},
          "execution_count": 7
        }
      ]
    },
    {
      "cell_type": "markdown",
      "source": [
        "# **Evaluation**"
      ],
      "metadata": {
        "id": "2Q254_5YA_-R"
      }
    },
    {
      "cell_type": "code",
      "source": [
        "# Evaluate the model on the test data\n",
        "test_loss, test_accuracy = model.evaluate(test_images, test_labels, verbose=2)\n",
        "print(\"\\nTest accuracy:\", test_accuracy)"
      ],
      "metadata": {
        "colab": {
          "base_uri": "https://localhost:8080/"
        },
        "id": "iUdUVFwL_tsn",
        "outputId": "c3e7d691-7ebc-43cd-8f12-e124ad1d79c3"
      },
      "execution_count": null,
      "outputs": [
        {
          "output_type": "stream",
          "name": "stdout",
          "text": [
            "313/313 - 1s - loss: 0.0782 - accuracy: 0.9785 - 597ms/epoch - 2ms/step\n",
            "\n",
            "Test accuracy: 0.9785000085830688\n"
          ]
        }
      ]
    },
    {
      "cell_type": "markdown",
      "source": [
        "We import TensorFlow and load the MNIST dataset using keras.datasets.mnist.\n",
        "\n",
        "The data is preprocessed by scaling pixel values to a range of [0, 1].\n",
        "\n",
        "We build a simple neural network using the Sequential API. It consists of a flattening layer, a dense layer with ReLU activation, a dropout layer for regularization, and the output layer with 10 units for 10 classes.\n",
        "\n",
        "The model is compiled with the Adam optimizer, sparse categorical cross-entropy loss, and accuracy as the evaluation metric.\n",
        "\n",
        "We train the model on the training data for 10 epochs.\n",
        "\n",
        "Finally, the model is evaluated on the test data to calculate its accuracy."
      ],
      "metadata": {
        "id": "b7bE1xSQSy53"
      }
    }
  ]
}